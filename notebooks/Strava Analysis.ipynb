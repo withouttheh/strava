{
 "cells": [
  {
   "cell_type": "code",
   "execution_count": 2,
   "id": "412e44a7-25b2-4431-9a18-d1ebb6924d22",
   "metadata": {},
   "outputs": [],
   "source": [
    "import time\n",
    "import pickle\n",
    "import pandas as pd\n",
    "import numpy as np\n",
    "\n",
    "import matplotlib\n",
    "import matplotlib.pyplot as plt\n",
    "import seaborn as sns\n",
    "\n",
    "import folium\n",
    "\n",
    "pd.set_option(\"display.max_columns\", 100)"
   ]
  },
  {
   "cell_type": "code",
   "execution_count": 4,
   "id": "248dbc5d-5478-4f5d-9d32-0f28b95b312f",
   "metadata": {},
   "outputs": [],
   "source": [
    "df = pd.read_csv('../data/raw/strava_activities.csv')"
   ]
  },
  {
   "cell_type": "code",
   "execution_count": 16,
   "id": "c8d53b16-7225-4de8-a1d2-176d3e661f06",
   "metadata": {},
   "outputs": [
    {
     "data": {
      "text/plain": [
       "\"{'id': 'a10361539871', 'polyline': None, 'summary_polyline': 'hjkhEqg~hDHJLFb@Cj@UtA}@N?REd@Qb@WpA{@r@]rCkBr@]dDsBzCoBfBcAhBmA`Ak@`@YbAi@pAy@^Q|AiAxBqAzAw@`Ao@b@_@nAu@j@g@h@]FK@KGOWWaDaBgAc@eAk@m@WmBaA_Ai@qFwBqBcAOCI@KJg@vAoApEsAdEIHM@y@[q@_@g@m@GGGUIe@@e@Hu@\\\\\\\\qAVw@VeA@UCIEE_Aa@a@SmCkAsBw@}Bi@oB{@_@Ug@Q[Qu@SUKsDoBYa@_@[uDwBs@_@}AaA_@Qm@Go@[_@W]YGCGBCHo@lBQZ[\\\\\\\\OLWHgAJ_@@QLBNO\\\\\\\\G^Bt@A`@Bh@B^F\\\\\\\\Pj@Xh@p@|@jAbAVXf@^Z\\\\\\\\xArAnAxAb@l@Td@Zd@|@pBn@lBx@pBb@lA\\\\\\\\hAjCpH'}\""
      ]
     },
     "execution_count": 16,
     "metadata": {},
     "output_type": "execute_result"
    }
   ],
   "source": [
    "df['map'][40]"
   ]
  },
  {
   "cell_type": "code",
   "execution_count": 11,
   "id": "0f0e1bb2-3334-493d-94a7-e9d2ce6a90e2",
   "metadata": {},
   "outputs": [],
   "source": [
    "import folium\n",
    "\n",
    "m = folium.Map()\n",
    "m.save(\"footprint.html\")"
   ]
  },
  {
   "cell_type": "code",
   "execution_count": 12,
   "id": "40576d08-baed-429b-bfd7-b9a8d47873db",
   "metadata": {},
   "outputs": [
    {
     "data": {
      "text/html": [
       "\n",
       "        <iframe\n",
       "            width=\"800\"\n",
       "            height=\"600\"\n",
       "            src=\"footprint.html\"\n",
       "            frameborder=\"0\"\n",
       "            allowfullscreen\n",
       "            \n",
       "        ></iframe>\n",
       "        "
      ],
      "text/plain": [
       "<IPython.lib.display.IFrame at 0x21345c9aae0>"
      ]
     },
     "execution_count": 12,
     "metadata": {},
     "output_type": "execute_result"
    }
   ],
   "source": [
    "from IPython.display import IFrame\n",
    "\n",
    "IFrame(src=\"footprint.html\", width=800, height=600)\n"
   ]
  },
  {
   "cell_type": "code",
   "execution_count": null,
   "id": "f73db06a-cf6e-4101-9fb1-29ecd40b8aa1",
   "metadata": {},
   "outputs": [],
   "source": []
  }
 ],
 "metadata": {
  "kernelspec": {
   "display_name": "Python 3 (ipykernel)",
   "language": "python",
   "name": "python3"
  },
  "language_info": {
   "codemirror_mode": {
    "name": "ipython",
    "version": 3
   },
   "file_extension": ".py",
   "mimetype": "text/x-python",
   "name": "python",
   "nbconvert_exporter": "python",
   "pygments_lexer": "ipython3",
   "version": "3.12.2"
  }
 },
 "nbformat": 4,
 "nbformat_minor": 5
}
